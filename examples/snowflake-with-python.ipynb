{
 "cells": [
  {
   "cell_type": "markdown",
   "id": "d50f9a3c-6031-4cc3-b394-3cdf94129c35",
   "metadata": {
    "tags": []
   },
   "source": [
    "# Connect to Snowflake using `Python3`\n",
    "\n",
    "\n",
    "#### Topics covered in this example\n",
    "* Installing Snowflake connector for Python\n",
    "* Connecting to Snowflake using `Python3`"
   ]
  },
  {
   "cell_type": "markdown",
   "id": "3a1ee068-3e43-4ec5-8c82-f5c9d7ebbecb",
   "metadata": {},
   "source": [
    "## Table of Contents:\n",
    "\n",
    "1. [Prerequisites](#Prerequisites)\n",
    "2. [Introduction](#Introduction)\n",
    "3. [Install dependency libraries](#Install-dependency-libraries)\n",
    "4. [Connect to Snowflake using `Python3`](#Connect-to-Snowflake)\n",
    "   * [Read Data from Snowflake table](#Read-data-from-Snowflake-table-using-Python3)\n",
    "   * [Create Pandas DataFrame from Snowflake table](#Create-Pandas-DataFrame-from-Snowflake-table-using-Python3)\n",
    "   * [Write Data to Snowflake table](#Write-data-to-Snowflake-table-using-Python3)\n",
    "5. [Close connection](#Close-connection-and-cleanup)"
   ]
  },
  {
   "cell_type": "markdown",
   "id": "7bc18d5d-07a8-40f4-8cc7-2b45cbb29d51",
   "metadata": {},
   "source": [
    "***\n",
    "\n",
    "## Prerequisites\n",
    "<div class=\"alert alert-block alert-info\">\n",
    "<b>NOTE :</b> In order to execute this notebook successfully as is, please ensure the following prerequisites are completed.</div>\n",
    "\n",
    "* This notebook is tested with Amazon EMR 6.4.0\n",
    "* This example installs the Snowflake connector and other dependant Python packages using pip, hence the EMR cluster attached to this notebook must have internet connectivity. In case using custom package repository for pip, please make sure you have these dependant packages hosted in your custom repository.\n",
    "***"
   ]
  },
  {
   "cell_type": "markdown",
   "id": "9b7eafc5-6fd6-45c0-9684-971e702be6cf",
   "metadata": {},
   "source": [
    "## Introduction\n",
    "In this example we use `Python3` to connect to a table in Snowflake using the Snowflake connector for Python.\n",
    "\n",
    "The Snowflake Connector for Python provides an interface for developing Python applications that can connect to Snowflake and perform all standard operations.\n",
    "\n",
    "The connector is a native, pure Python package that has no dependencies on JDBC or ODBC. It can be installed using `pip` on Linux, macOS, and Windows platforms where Python 3.6, 3.7, 3.8, or 3.9 is installed.\n",
    "\n",
    "For more information please find the [documentation here](#https://docs.snowflake.com/en/user-guide/python-connector.html)\n",
    "***"
   ]
  },
  {
   "cell_type": "markdown",
   "id": "12208451-b66d-4c27-acfa-f5fc368a9ee5",
   "metadata": {},
   "source": [
    "## Install dependency libraries\n",
    "\n",
    "- We will need a few Python packages for Snowflake connector for Python to work. The Snowflake connector for Python has a list of required packages specific for Python version before we can install `snowflake-connector-python`. In this example, we are using Python 3.7 and testing `snowflake-connector-python` version 2.6.2.\n",
    "\n",
    "- Once we install the required dependencies, we will install below additional Python packages:\n",
    "\n",
    "  * `snowflake-connector-python`\n",
    "  * `snowflake-connector-python[pandas]`\n",
    "  * `PyArrow`\n",
    "  \n",
    "<div class=\"alert alert-block alert-info\">\n",
    "<b>NOTE :</b> Please note that you may need to restart the kernel after install all the dependant Python package.</div>"
   ]
  },
  {
   "cell_type": "code",
   "execution_count": null,
   "id": "3b192566-d67a-4d73-8cbb-acb530f0247d",
   "metadata": {
    "tags": []
   },
   "outputs": [],
   "source": [
    "%pip install -r https://raw.githubusercontent.com/snowflakedb/snowflake-connector-python/v2.6.2/tested_requirements/requirements_37.reqs"
   ]
  },
  {
   "cell_type": "code",
   "execution_count": null,
   "id": "f91a03bb-5af9-4d3c-a9da-04952dd7faab",
   "metadata": {},
   "outputs": [],
   "source": [
    "%pip install snowflake-connector-python==2.6.2 snowflake-connector-python[pandas]==2.6.2 pyarrow"
   ]
  },
  {
   "cell_type": "markdown",
   "id": "c8177ef4-0229-4665-b7b6-e06135cd56d6",
   "metadata": {},
   "source": [
    "## Connect to Snowflake\n",
    "\n",
    "For this example we will connect to Snowflake account `abc12345` hosted in the AWS region `us-east-1`. The connection will be established using user `SNOWFLAKE_USER` with the password `My_Password`.\n",
    "\n",
    "Please make sure you replace these values with the ones appropriate for your environment/setup.\n",
    "\n",
    "Lets create a connection context which will be used in examples below:"
   ]
  },
  {
   "cell_type": "code",
   "execution_count": 12,
   "id": "2d9732c2-7f03-45fe-a2a0-faa92c202ad2",
   "metadata": {
    "execution": {
     "iopub.execute_input": "2022-01-23T23:09:48.002609Z",
     "iopub.status.busy": "2022-01-23T23:09:48.002378Z",
     "iopub.status.idle": "2022-01-23T23:09:50.924381Z",
     "shell.execute_reply": "2022-01-23T23:09:50.923656Z",
     "shell.execute_reply.started": "2022-01-23T23:09:48.002586Z"
    },
    "tags": []
   },
   "outputs": [
    {
     "name": "stdin",
     "output_type": "stream",
     "text": [
      "Enter Snowflake user password ··········\n"
     ]
    },
    {
     "name": "stdout",
     "output_type": "stream",
     "text": [
      "Created a connection context: <snowflake.connector.connection.SnowflakeConnection object at 0x7fac5c5edf10>\n"
     ]
    }
   ],
   "source": [
    "import snowflake.connector\n",
    "import getpass\n",
    "\n",
    "ctx = snowflake.connector.connect(\n",
    "    user='SNOWFLAKE_USER',\n",
    "    password=getpass.getpass('Enter Snowflake user password'),\n",
    "    account='abc12345.us-east-1'\n",
    "    )\n",
    "\n",
    "print('Created a connection context: ' +str(ctx))"
   ]
  },
  {
   "cell_type": "markdown",
   "id": "3eb4752a-f177-4f58-84ad-e053caf610df",
   "metadata": {},
   "source": [
    "### Read data from Snowflake table using `Python3`\n",
    "\n",
    "We see a simple example of connecting to Snowflake table to fetch 5 rows (using `fetchmany()`. You can also use `fetchall()` or `fetchone()`\n",
    "\n",
    "We will connect to table `CUSTOMER` within schema `TPCH_SF1` present inside the database `SNOWFLAKE_SAMPLE_DATA` using the connect context `ctx` created above.\n",
    "\n",
    "Please make sure you replace these values with the ones appropriate for your environment/setup.\n",
    "\n",
    "The following example will return the values/rows in Python list `result`"
   ]
  },
  {
   "cell_type": "code",
   "execution_count": null,
   "id": "4fb8e8bc-cf14-4fa4-a8f5-18d24393752f",
   "metadata": {
    "tags": []
   },
   "outputs": [],
   "source": [
    "query = \"SELECT * FROM SNOWFLAKE_SAMPLE_DATA.TPCH_SF1.CUSTOMER\"\n",
    "\n",
    "cs = ctx.cursor()\n",
    "try:\n",
    "    cs.execute(query)\n",
    "    result = cs.fetchmany(5)\n",
    "    print(result)\n",
    "finally:\n",
    "    cs.close()"
   ]
  },
  {
   "cell_type": "markdown",
   "id": "e9a28511-8db1-4ed1-a290-7185d0806a76",
   "metadata": {},
   "source": [
    "### Create Pandas DataFrame from Snowflake table using `Python3`\n",
    "\n",
    "We will now see an example of creating a Pandas DataFrame.\n",
    "\n",
    "We will connect to table `CUSTOMER` within schema `TPCH_SF1` present inside the database `SNOWFLAKE_SAMPLE_DATA` using the connect context `ctx` created above.\n",
    "\n",
    "Please make sure you replace these values with the ones appropriate for your environment/setup."
   ]
  },
  {
   "cell_type": "code",
   "execution_count": null,
   "id": "e73730b9-6ae4-44f8-b724-012fb8f5b628",
   "metadata": {
    "tags": []
   },
   "outputs": [],
   "source": [
    "import pandas as pd\n",
    "\n",
    "query = \"SELECT * FROM SNOWFLAKE_SAMPLE_DATA.TPCH_SF1.CUSTOMER\"\n",
    "\n",
    "cs = ctx.cursor()\n",
    "try:\n",
    "    cs.execute(query)\n",
    "    pandasTable = cs.fetch_pandas_all()\n",
    "    # Let's validate the data type for pandasTable\n",
    "    print('The data type returned is: ' + str(type(pandasTable)))\n",
    "    \n",
    "    # Check the values returned\n",
    "    print(pandasTable)\n",
    "finally:\n",
    "    cs.close()"
   ]
  },
  {
   "cell_type": "markdown",
   "id": "2de3def7-3719-4f47-a9df-e3fba7b351db",
   "metadata": {},
   "source": [
    "### Write data to Snowflake table using `Python3`\n",
    "\n",
    "We take a few examples to see how we can create a table and insert data into this table.\n",
    "\n",
    "We will create a sample table named `SAMPLETABLE` inside the same"
   ]
  },
  {
   "cell_type": "code",
   "execution_count": null,
   "id": "48f5c587-4ec1-4628-a834-db17d639da8a",
   "metadata": {
    "tags": []
   },
   "outputs": [],
   "source": [
    "cs = ctx.cursor()\n",
    "try:\n",
    "    # Create database SAMPLEDB\n",
    "    cs.execute(\"CREATE DATABASE IF NOT EXISTS SAMPLEDB\")\n",
    "    \n",
    "    # Create schema myschema inside sampledb database\n",
    "    cs.execute(\"CREATE SCHEMA SAMPLEDB.MYSCHEMA\")\n",
    "    \n",
    "    # Create table SAMPLETABLE\n",
    "    cs.execute(\"CREATE OR REPLACE TABLE SAMPLEDB.MYSCHEMA.SAMPLETABLE(id integer, name string)\")\n",
    "    \n",
    "    # Insert values inside SAMPLETABLE\n",
    "    cs.execute(\"INSERT INTO SAMPLEDB.MYSCHEMA.SAMPLETABLE VALUES (1, 'john jones'), (2, 'tracey smith'), (3, 'amy sanders')\")\n",
    "finally:\n",
    "    cs.close()"
   ]
  },
  {
   "cell_type": "markdown",
   "id": "8ffa572b-dee7-4e20-8507-f52ce5e561d5",
   "metadata": {},
   "source": [
    "You can also use bulk insert to load the data into the Snowflake table instead of using single-row INSERT SQL statements. The bulk load can be performed from an internal (local) storage or from an external storage like Amazon S3 bucket. The following example assumes that you have the data file located on S3 bucket `MYDATABUCKET`.\n",
    "\n",
    "Please note that this example uses storage integration instead of supplying access credentials in the execute statment. We recommend using storage integration which should be created before running the load statements. For more details on creating storage integration, please refer to the [documentation here](#https://docs.snowflake.com/en/sql-reference/sql/create-storage-integration.html)"
   ]
  },
  {
   "cell_type": "code",
   "execution_count": null,
   "id": "f3ee3395-f0a5-44b7-8f2a-cd47d7979e48",
   "metadata": {},
   "outputs": [],
   "source": [
    "cs = ctx.cursor()\n",
    "try:\n",
    "    cs.execute(\"\"\"\n",
    "    COPY INTO SAMPLEDB.MYSCHEMA.SAMPLETABLE FROM s3://MYDATABUCKET/data-files/\n",
    "        STORAGE_INTEGRATION = S3DataBucket\n",
    "        FILE_FORMAT=(field_delimiter=',')\n",
    "    \"\"\")\n",
    "finally:\n",
    "    cs.close()"
   ]
  },
  {
   "cell_type": "markdown",
   "id": "5823e27e-86ad-411e-86b5-a92486bc76f7",
   "metadata": {},
   "source": [
    "## Close connection and cleanup\n",
    "\n",
    "Finally, we close the connection context"
   ]
  },
  {
   "cell_type": "code",
   "execution_count": null,
   "id": "57894817-b58d-43d6-95e9-477eb5355f4c",
   "metadata": {
    "tags": []
   },
   "outputs": [],
   "source": [
    "ctx.close()"
   ]
  }
 ],
 "metadata": {
  "kernelspec": {
   "display_name": "Python 3",
   "language": "python",
   "name": "python3"
  },
  "language_info": {
   "codemirror_mode": {
    "name": "ipython",
    "version": 3
   },
   "file_extension": ".py",
   "mimetype": "text/x-python",
   "name": "python",
   "nbconvert_exporter": "python",
   "pygments_lexer": "ipython3",
   "version": "3.7.11"
  }
 },
 "nbformat": 4,
 "nbformat_minor": 5
}
